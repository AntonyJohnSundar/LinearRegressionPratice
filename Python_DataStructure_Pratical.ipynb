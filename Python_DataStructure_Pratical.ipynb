{
 "cells": [
  {
   "cell_type": "code",
   "execution_count": 1,
   "id": "68c8a900",
   "metadata": {},
   "outputs": [],
   "source": [
    "msg=\"crocodile\""
   ]
  },
  {
   "cell_type": "code",
   "execution_count": 2,
   "id": "cb82ea1a",
   "metadata": {},
   "outputs": [
    {
     "data": {
      "text/plain": [
       "'rol'"
      ]
     },
     "execution_count": 2,
     "metadata": {},
     "output_type": "execute_result"
    }
   ],
   "source": [
    "msg[1:8:3]"
   ]
  },
  {
   "cell_type": "code",
   "execution_count": 4,
   "id": "370cff0c",
   "metadata": {},
   "outputs": [
    {
     "data": {
      "text/plain": [
       "True"
      ]
     },
     "execution_count": 4,
     "metadata": {},
     "output_type": "execute_result"
    }
   ],
   "source": [
    "msg.startswith('c')"
   ]
  },
  {
   "cell_type": "code",
   "execution_count": 5,
   "id": "c712fa17",
   "metadata": {},
   "outputs": [
    {
     "data": {
      "text/plain": [
       "2"
      ]
     },
     "execution_count": 5,
     "metadata": {},
     "output_type": "execute_result"
    }
   ],
   "source": [
    "msg.index('o')"
   ]
  },
  {
   "cell_type": "code",
   "execution_count": 6,
   "id": "fd4e0034",
   "metadata": {},
   "outputs": [
    {
     "data": {
      "text/plain": [
       "'CROCODILE'"
      ]
     },
     "execution_count": 6,
     "metadata": {},
     "output_type": "execute_result"
    }
   ],
   "source": [
    "msg.upper()"
   ]
  },
  {
   "cell_type": "code",
   "execution_count": 7,
   "id": "07df28ef",
   "metadata": {},
   "outputs": [
    {
     "data": {
      "text/plain": [
       "1"
      ]
     },
     "execution_count": 7,
     "metadata": {},
     "output_type": "execute_result"
    }
   ],
   "source": [
    "msg.rindex('r')"
   ]
  },
  {
   "cell_type": "code",
   "execution_count": 8,
   "id": "5fde44e2",
   "metadata": {},
   "outputs": [],
   "source": [
    "s=\"I have lot of work\""
   ]
  },
  {
   "cell_type": "code",
   "execution_count": 9,
   "id": "742eeb28",
   "metadata": {},
   "outputs": [
    {
     "data": {
      "text/plain": [
       "['I', 'have', 'lot', 'of', 'work']"
      ]
     },
     "execution_count": 9,
     "metadata": {},
     "output_type": "execute_result"
    }
   ],
   "source": [
    "s.split()"
   ]
  },
  {
   "cell_type": "code",
   "execution_count": 11,
   "id": "6bc12206",
   "metadata": {},
   "outputs": [
    {
     "data": {
      "text/plain": [
       "['I', 'have', 'lot', 'of', 'work']"
      ]
     },
     "execution_count": 11,
     "metadata": {},
     "output_type": "execute_result"
    }
   ],
   "source": [
    "mlist=s.split()\n",
    "mlist"
   ]
  },
  {
   "cell_type": "code",
   "execution_count": 14,
   "id": "e8627b12",
   "metadata": {},
   "outputs": [
    {
     "data": {
      "text/plain": [
       "['I have lo', ' of work']"
      ]
     },
     "execution_count": 14,
     "metadata": {},
     "output_type": "execute_result"
    }
   ],
   "source": [
    "mlistfalse=s.split('t')\n",
    "mlistfalse"
   ]
  },
  {
   "cell_type": "code",
   "execution_count": 20,
   "id": "835bdfae",
   "metadata": {},
   "outputs": [
    {
     "data": {
      "text/plain": [
       "'I have lot of work'"
      ]
     },
     "execution_count": 20,
     "metadata": {},
     "output_type": "execute_result"
    }
   ],
   "source": [
    "str= ' '.join(mlist)\n",
    "str"
   ]
  },
  {
   "cell_type": "code",
   "execution_count": 22,
   "id": "e58aaaf6",
   "metadata": {},
   "outputs": [
    {
     "data": {
      "text/plain": [
       "str"
      ]
     },
     "execution_count": 22,
     "metadata": {},
     "output_type": "execute_result"
    }
   ],
   "source": [
    "type(str)"
   ]
  },
  {
   "cell_type": "code",
   "execution_count": 23,
   "id": "a5cdd070",
   "metadata": {},
   "outputs": [],
   "source": [
    "marks =\"English 30 Maths 60 Science 60\""
   ]
  },
  {
   "cell_type": "code",
   "execution_count": 25,
   "id": "a4cd0238",
   "metadata": {},
   "outputs": [
    {
     "data": {
      "text/plain": [
       "['English', '30', 'Maths', '60', 'Science', '60']"
      ]
     },
     "execution_count": 25,
     "metadata": {},
     "output_type": "execute_result"
    }
   ],
   "source": [
    "list1= marks.split()\n",
    "list1"
   ]
  },
  {
   "cell_type": "code",
   "execution_count": 32,
   "id": "d1fb13f3",
   "metadata": {},
   "outputs": [
    {
     "data": {
      "text/plain": [
       "[30, 60, 60]"
      ]
     },
     "execution_count": 32,
     "metadata": {},
     "output_type": "execute_result"
    }
   ],
   "source": [
    "score=[]\n",
    "for word in list1:\n",
    "    if word.isdigit()==True:\n",
    "       score.append(int(word))\n",
    "score"
   ]
  },
  {
   "cell_type": "code",
   "execution_count": 33,
   "id": "d7dff114",
   "metadata": {},
   "outputs": [
    {
     "name": "stdout",
     "output_type": "stream",
     "text": [
      "50.0\n"
     ]
    }
   ],
   "source": [
    "print(sum(score)/len(score))"
   ]
  },
  {
   "cell_type": "code",
   "execution_count": 39,
   "id": "d104cd3c",
   "metadata": {},
   "outputs": [
    {
     "ename": "NameError",
     "evalue": "name 'mylist1' is not defined",
     "output_type": "error",
     "traceback": [
      "\u001b[1;31m---------------------------------------------------------------------------\u001b[0m",
      "\u001b[1;31mNameError\u001b[0m                                 Traceback (most recent call last)",
      "Cell \u001b[1;32mIn[39], line 2\u001b[0m\n\u001b[0;32m      1\u001b[0m myList1 \u001b[38;5;241m=\u001b[39m [ \u001b[38;5;241m1\u001b[39m , \u001b[38;5;241m2\u001b[39m , [ \u001b[38;5;241m3\u001b[39m, \u001b[38;5;241m4\u001b[39m ],[ \u001b[38;5;241m5\u001b[39m , [ \u001b[38;5;241m100\u001b[39m , \u001b[38;5;241m200\u001b[39m , [\u001b[38;5;124m'\u001b[39m\u001b[38;5;124mhello\u001b[39m\u001b[38;5;124m'\u001b[39m]] , \u001b[38;5;241m23\u001b[39m , \u001b[38;5;241m11\u001b[39m ] , \u001b[38;5;241m1\u001b[39m, \u001b[38;5;241m7\u001b[39m ]\n\u001b[1;32m----> 2\u001b[0m mylist1[\u001b[38;5;241m3\u001b[39m][\u001b[38;5;241m2\u001b[39m]\n",
      "\u001b[1;31mNameError\u001b[0m: name 'mylist1' is not defined"
     ]
    }
   ],
   "source": [
    "myList1 = [ 1 , 2 , [ 3, 4 ],[ 5 , [ 100 , 200 , ['hello']] , 23 , 11 ] , 1, 7 ]\n",
    "mylist1[3][2]"
   ]
  },
  {
   "cell_type": "code",
   "execution_count": null,
   "id": "b58dedd5",
   "metadata": {},
   "outputs": [],
   "source": []
  }
 ],
 "metadata": {
  "kernelspec": {
   "display_name": "Python 3 (ipykernel)",
   "language": "python",
   "name": "python3"
  },
  "language_info": {
   "codemirror_mode": {
    "name": "ipython",
    "version": 3
   },
   "file_extension": ".py",
   "mimetype": "text/x-python",
   "name": "python",
   "nbconvert_exporter": "python",
   "pygments_lexer": "ipython3",
   "version": "3.11.4"
  }
 },
 "nbformat": 4,
 "nbformat_minor": 5
}
